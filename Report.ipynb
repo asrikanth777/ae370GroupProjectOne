# Understanding the Double Pendulum as a Dynamical System

## (i) Why the Double Pendulum Is Important

The **triple pendulum** is an extension of the double pendulum and serves as a compelling example of **high-dimensional chaos** and **nonlinear coupled dynamics**. With three degrees of freedom, it displays an even more complex range of behaviors including higher-order bifurcations, multi-scale oscillations, and a heightened sensitivity to initial conditions.

From an engineering perspective, it offers a simplified but powerful analog to multi-joint robotic arms, suspension systems, and flexible spacecraft structures. It is also an ideal testbed for applying **Lagrangian mechanics** to high-degree-of-freedom systems where Newtonian analysis would be cumbersome and opaque.

---

## (ii) Questions to Explore

Key questions I want to explore in the triple pendulum include:

- How does adding a third segment change the stability and chaotic behavior compared to the double pendulum?
- What types of periodic or quasi-periodic orbits can emerge in a triple pendulum?
- How do mass and length distributions affect the character and predictability of motion?

---

## (iii) Mathematical Formulation Using Lagrangian Mechanics

We consider a planar triple pendulum consisting of three point masses $ m_1, m_2, m_3 $, each attached to massless rods of lengths $ l_1, l_2, l_3 $, and angles $ \theta_1, \theta_2, \theta_3 $ measured from the vertical. The generalized coordinates are the angular displacements $ \theta_i $ and their time derivatives $ \dot{\theta}_i $, for $ i = 1, 2, 3 $.
### Generalized Coordinates

- $q_1 = \theta_1,$ $q_2 = \theta_2,$ $q_3 = \theta_3$
- $\dot{q_1} = \dot{\theta_1},$ $\dot{q_2} = \dot{\theta_2},$ $\dot{q_3} = \dot{\theta_3}$

### Positions of Masses

- $x_1 = l_1\sin\theta_1$
- $y_1 = -l_1 \cos\theta_1$
- $x_2 = l_1 \sin\theta_1 + l_2 \sin\theta_2$
- $y_2 = -l_1 \cos\theta_1 - l_2 \cos\theta_2$
- $x_3 = x_2 + l_3 \sin \theta_3$
- $y_3 = y_2 - l_3 \cos \theta_3$


### Kinetic Energy $T$
- Total Kinetic energy $T$:
$$
T = \frac{1}{2} m_1 (\dot{x}_1^2 + \dot{y}_1^2) 
  + \frac{1}{2} m_2 (\dot{x}_2^2 + \dot{y}_2^2) 
  + \frac{1}{2} m_3 (\dot{x}_3^2 + \dot{y}_3^2)
$$

$$
T_1 = \frac{1}{2} m_1 \left(l_1^2 \dot\theta_1^2 \right)
$$

$$
T_2 = \frac{1}{2} m_2 \left[(l_1 \cos\theta_1\dot{\theta_1} + l_2\cos\theta_2 \dot{\theta_2})^2 + (l_1 \sin\theta_1\dot{\theta_1} + l_2\sin\theta_2 \dot{\theta_2})^2 \right]
$$

$$
T_3 = \frac{1}{2} m_3 \left[(l_1 \cos\theta_1\dot{\theta_1} + l_2\cos\theta_2 \dot{\theta_2} + l_3\cos\theta_3\dot{\theta_3})^2 + (l_1 \sin\theta_1\dot{\theta_1} + l_2\sin\theta_2 \dot{\theta_2} + l_3\sin\theta_3\dot{\theta_3})^2 \right]
$$

$$
T = T_1 + T_2 + T_3
$$

### Potential Energy $V$

The vertical position determines the potential energy:

$$
V = m_1 g(-l_1 \cos\theta_1) + m_2 g(-l_1 \cos\theta_1 - l_2 \cos\theta_2) + m_3 g (y_2 - l_3 \cos \theta_3)
$$

### Lagrangian

The Lagrangian $L$ is:

$$
L = T - V
$$

Substituting $T$ and $V$:

$$
L = \frac{1}{2} m_1 l_1^2 \dot{\theta}_1^2 
+ \frac{1}{2} m_2 \left[ 
l_1^2 \dot{\theta}_1^2 + l_2^2 \dot{\theta}_2^2 
+ 2 l_1 l_2 \dot{\theta}_1 \dot{\theta}_2 \cos(\theta_1 - \theta_2)
\right] + m_1 g l_1 \cos\theta_1 + m_2 g (l_1 \cos\theta_1 + l_2 \cos\theta_2)
$$

### Euler-Lagrange Equations

The equations of motion are derived using:

$$
\frac{d}{dt} \left( \frac{\partial L}{\partial \dot{\theta}_i} \right) 
- \frac{\partial L}{\partial \theta_i} = 0, \quad i = 1,2,3
$$

This yields a system of two **coupled, second-order nonlinear differential equations** in $\theta_1(t)$ and $\theta_2(t)$. These equations are generally solved numerically for arbitrary initial conditions and parameter values.


## Parameters and Ranges of Interest

Let us define typical parameter ranges for physical interpretation:

- $m_1 = m_2 = m_3 = m \in [0.1, 10]$ kg
- $l_1 = l_2 = l_3 = l \in [0.1, 2]$ m
- $g = 9.81$ m/s² (Earth’s gravity)
- Initial conditions: - $\theta_i(0), \dot{\theta}_i(0)$: initial conditions (e.g., $\theta_i(0) \in [-\pi, \pi]$, $\dot{\theta}_i(0) \in [-5, 5] \,\text{rad/s}$)

These ranges allow us to explore both near-harmonic and fully chaotic motion regimes, enabling a complete investigation of the dynamical behavior.
